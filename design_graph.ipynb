{
 "cells": [
  {
   "cell_type": "markdown",
   "id": "eef38465",
   "metadata": {},
   "source": [
    "#Présentation"
   ]
  },
  {
   "cell_type": "code",
   "execution_count": 74,
   "id": "c3f26d4f",
   "metadata": {},
   "outputs": [
    {
     "name": "stdout",
     "output_type": "stream",
     "text": [
      "Shape of the DataFrame: (237221, 9)\n"
     ]
    },
    {
     "data": {
      "text/html": [
       "<div>\n",
       "<style scoped>\n",
       "    .dataframe tbody tr th:only-of-type {\n",
       "        vertical-align: middle;\n",
       "    }\n",
       "\n",
       "    .dataframe tbody tr th {\n",
       "        vertical-align: top;\n",
       "    }\n",
       "\n",
       "    .dataframe thead th {\n",
       "        text-align: right;\n",
       "    }\n",
       "</style>\n",
       "<table border=\"1\" class=\"dataframe\">\n",
       "  <thead>\n",
       "    <tr style=\"text-align: right;\">\n",
       "      <th></th>\n",
       "      <th>INCIDENT_NUMBER</th>\n",
       "      <th>OFFENSE_CODE_GROUP</th>\n",
       "      <th>SHOOTING</th>\n",
       "      <th>OCCURRED_ON_DATE</th>\n",
       "      <th>LAT</th>\n",
       "      <th>LONG</th>\n",
       "      <th>NAME</th>\n",
       "      <th>LAT_POLICE_STATION</th>\n",
       "      <th>LONG_POLICE_STATION</th>\n",
       "    </tr>\n",
       "  </thead>\n",
       "  <tbody>\n",
       "    <tr>\n",
       "      <th>0</th>\n",
       "      <td>I192068249</td>\n",
       "      <td>Other</td>\n",
       "      <td>0</td>\n",
       "      <td>2015-08-28 10:20:00</td>\n",
       "      <td>42.330119</td>\n",
       "      <td>-71.084251</td>\n",
       "      <td>Roxbury</td>\n",
       "      <td>42.328894</td>\n",
       "      <td>-71.085359</td>\n",
       "    </tr>\n",
       "    <tr>\n",
       "      <th>1</th>\n",
       "      <td>I182074094</td>\n",
       "      <td>Violence and harassment</td>\n",
       "      <td>0</td>\n",
       "      <td>2015-09-14 09:31:00</td>\n",
       "      <td>42.315142</td>\n",
       "      <td>-71.067047</td>\n",
       "      <td>Roxbury</td>\n",
       "      <td>42.328894</td>\n",
       "      <td>-71.085359</td>\n",
       "    </tr>\n",
       "    <tr>\n",
       "      <th>2</th>\n",
       "      <td>I182054888</td>\n",
       "      <td>Violence and harassment</td>\n",
       "      <td>0</td>\n",
       "      <td>2015-07-12 15:37:00</td>\n",
       "      <td>42.312243</td>\n",
       "      <td>-71.075499</td>\n",
       "      <td>Roxbury</td>\n",
       "      <td>42.328894</td>\n",
       "      <td>-71.085359</td>\n",
       "    </tr>\n",
       "    <tr>\n",
       "      <th>3</th>\n",
       "      <td>I182054888</td>\n",
       "      <td>Other</td>\n",
       "      <td>0</td>\n",
       "      <td>2015-07-12 15:37:00</td>\n",
       "      <td>42.312243</td>\n",
       "      <td>-71.075499</td>\n",
       "      <td>Roxbury</td>\n",
       "      <td>42.328894</td>\n",
       "      <td>-71.085359</td>\n",
       "    </tr>\n",
       "    <tr>\n",
       "      <th>4</th>\n",
       "      <td>I182054888</td>\n",
       "      <td>Other</td>\n",
       "      <td>0</td>\n",
       "      <td>2015-07-12 15:37:00</td>\n",
       "      <td>42.312243</td>\n",
       "      <td>-71.075499</td>\n",
       "      <td>Roxbury</td>\n",
       "      <td>42.328894</td>\n",
       "      <td>-71.085359</td>\n",
       "    </tr>\n",
       "    <tr>\n",
       "      <th>5</th>\n",
       "      <td>I172075854</td>\n",
       "      <td>Fraud and law violations</td>\n",
       "      <td>0</td>\n",
       "      <td>2015-09-02 09:00:00</td>\n",
       "      <td>42.314013</td>\n",
       "      <td>-71.086353</td>\n",
       "      <td>Roxbury</td>\n",
       "      <td>42.328894</td>\n",
       "      <td>-71.085359</td>\n",
       "    </tr>\n",
       "    <tr>\n",
       "      <th>6</th>\n",
       "      <td>I172065681</td>\n",
       "      <td>Fraud and law violations</td>\n",
       "      <td>0</td>\n",
       "      <td>2015-07-25 02:00:00</td>\n",
       "      <td>42.316339</td>\n",
       "      <td>-71.068800</td>\n",
       "      <td>Roxbury</td>\n",
       "      <td>42.328894</td>\n",
       "      <td>-71.085359</td>\n",
       "    </tr>\n",
       "    <tr>\n",
       "      <th>7</th>\n",
       "      <td>I172060902</td>\n",
       "      <td>Fraud and law violations</td>\n",
       "      <td>0</td>\n",
       "      <td>2015-11-12 12:00:00</td>\n",
       "      <td>42.316057</td>\n",
       "      <td>-71.078200</td>\n",
       "      <td>Roxbury</td>\n",
       "      <td>42.328894</td>\n",
       "      <td>-71.085359</td>\n",
       "    </tr>\n",
       "    <tr>\n",
       "      <th>8</th>\n",
       "      <td>I172026505</td>\n",
       "      <td>Fraud and law violations</td>\n",
       "      <td>0</td>\n",
       "      <td>2015-08-01 12:00:00</td>\n",
       "      <td>42.330013</td>\n",
       "      <td>-71.091179</td>\n",
       "      <td>Roxbury</td>\n",
       "      <td>42.328894</td>\n",
       "      <td>-71.085359</td>\n",
       "    </tr>\n",
       "    <tr>\n",
       "      <th>9</th>\n",
       "      <td>I172014289</td>\n",
       "      <td>Other</td>\n",
       "      <td>0</td>\n",
       "      <td>2015-12-01 12:00:00</td>\n",
       "      <td>42.323410</td>\n",
       "      <td>-71.093396</td>\n",
       "      <td>Roxbury</td>\n",
       "      <td>42.328894</td>\n",
       "      <td>-71.085359</td>\n",
       "    </tr>\n",
       "  </tbody>\n",
       "</table>\n",
       "</div>"
      ],
      "text/plain": [
       "  INCIDENT_NUMBER        OFFENSE_CODE_GROUP  SHOOTING     OCCURRED_ON_DATE  \\\n",
       "0      I192068249                     Other         0  2015-08-28 10:20:00   \n",
       "1      I182074094   Violence and harassment         0  2015-09-14 09:31:00   \n",
       "2      I182054888   Violence and harassment         0  2015-07-12 15:37:00   \n",
       "3      I182054888                     Other         0  2015-07-12 15:37:00   \n",
       "4      I182054888                     Other         0  2015-07-12 15:37:00   \n",
       "5      I172075854  Fraud and law violations         0  2015-09-02 09:00:00   \n",
       "6      I172065681  Fraud and law violations         0  2015-07-25 02:00:00   \n",
       "7      I172060902  Fraud and law violations         0  2015-11-12 12:00:00   \n",
       "8      I172026505  Fraud and law violations         0  2015-08-01 12:00:00   \n",
       "9      I172014289                     Other         0  2015-12-01 12:00:00   \n",
       "\n",
       "         LAT       LONG     NAME  LAT_POLICE_STATION  LONG_POLICE_STATION  \n",
       "0  42.330119 -71.084251  Roxbury           42.328894           -71.085359  \n",
       "1  42.315142 -71.067047  Roxbury           42.328894           -71.085359  \n",
       "2  42.312243 -71.075499  Roxbury           42.328894           -71.085359  \n",
       "3  42.312243 -71.075499  Roxbury           42.328894           -71.085359  \n",
       "4  42.312243 -71.075499  Roxbury           42.328894           -71.085359  \n",
       "5  42.314013 -71.086353  Roxbury           42.328894           -71.085359  \n",
       "6  42.316339 -71.068800  Roxbury           42.328894           -71.085359  \n",
       "7  42.316057 -71.078200  Roxbury           42.328894           -71.085359  \n",
       "8  42.330013 -71.091179  Roxbury           42.328894           -71.085359  \n",
       "9  42.323410 -71.093396  Roxbury           42.328894           -71.085359  "
      ]
     },
     "execution_count": 74,
     "metadata": {},
     "output_type": "execute_result"
    }
   ],
   "source": [
    "# Load the dataset\n",
    "from data import load_data_viz_data\n",
    "import pandas as pd\n",
    "import matplotlib.pyplot as plt\n",
    "\n",
    "data = load_data_viz_data()\n",
    "data[['LAT','LONG']] = data[['LAT','LONG']].astype('float64')\n",
    "\n",
    "print(\"Shape of the DataFrame:\", data.shape)\n",
    "\n",
    "data.head(10)"
   ]
  },
  {
   "cell_type": "code",
   "execution_count": 75,
   "id": "80edaac9",
   "metadata": {},
   "outputs": [],
   "source": [
    "df_most_common = pd.DataFrame([],columns = ['DISTRICT','MOST_COMMON_INCIDENT'])\n",
    "i=0\n",
    "for dis in data['NAME'].unique():\n",
    "    df = data[data['NAME'] == dis]\n",
    "    rank = 0 #most common\n",
    "    off = df[['NAME','OFFENSE_CODE_GROUP']].value_counts().index[rank][1]\n",
    "    df_most_common.loc[i] = [dis,off]\n",
    "    i=i+1\n",
    "#df_most_common"
   ]
  },
  {
   "cell_type": "code",
   "execution_count": 76,
   "id": "470ba274",
   "metadata": {},
   "outputs": [],
   "source": [
    "df_second_common = pd.DataFrame([],columns = ['DISTRICT','SECOND_COMMON_INCIDENT'])\n",
    "i=0\n",
    "for dis in data['NAME'].unique():\n",
    "    df = data[data['NAME'] == dis]\n",
    "    rank = 1 #most common\n",
    "    off = df[['NAME','OFFENSE_CODE_GROUP']].value_counts().index[rank][1]\n",
    "    df_second_common.loc[i] = [dis,off]\n",
    "    i=i+1\n",
    "#df_second_common"
   ]
  },
  {
   "cell_type": "code",
   "execution_count": 77,
   "id": "b42963b4",
   "metadata": {},
   "outputs": [
    {
     "data": {
      "text/html": [
       "<div>\n",
       "<style scoped>\n",
       "    .dataframe tbody tr th:only-of-type {\n",
       "        vertical-align: middle;\n",
       "    }\n",
       "\n",
       "    .dataframe tbody tr th {\n",
       "        vertical-align: top;\n",
       "    }\n",
       "\n",
       "    .dataframe thead th {\n",
       "        text-align: right;\n",
       "    }\n",
       "</style>\n",
       "<table border=\"1\" class=\"dataframe\">\n",
       "  <thead>\n",
       "    <tr style=\"text-align: right;\">\n",
       "      <th></th>\n",
       "      <th>SHOOTING</th>\n",
       "    </tr>\n",
       "    <tr>\n",
       "      <th>NAME</th>\n",
       "      <th></th>\n",
       "    </tr>\n",
       "  </thead>\n",
       "  <tbody>\n",
       "    <tr>\n",
       "      <th>Brighton</th>\n",
       "      <td>24</td>\n",
       "    </tr>\n",
       "    <tr>\n",
       "      <th>Charlestown</th>\n",
       "      <td>5</td>\n",
       "    </tr>\n",
       "    <tr>\n",
       "      <th>Dorchester</th>\n",
       "      <td>239</td>\n",
       "    </tr>\n",
       "    <tr>\n",
       "      <th>Downtown</th>\n",
       "      <td>19</td>\n",
       "    </tr>\n",
       "    <tr>\n",
       "      <th>East Boston</th>\n",
       "      <td>23</td>\n",
       "    </tr>\n",
       "    <tr>\n",
       "      <th>Hyde Park</th>\n",
       "      <td>40</td>\n",
       "    </tr>\n",
       "    <tr>\n",
       "      <th>Jamaica Plain</th>\n",
       "      <td>86</td>\n",
       "    </tr>\n",
       "    <tr>\n",
       "      <th>Mattapan</th>\n",
       "      <td>297</td>\n",
       "    </tr>\n",
       "    <tr>\n",
       "      <th>Roxbury</th>\n",
       "      <td>487</td>\n",
       "    </tr>\n",
       "    <tr>\n",
       "      <th>South Boston</th>\n",
       "      <td>47</td>\n",
       "    </tr>\n",
       "    <tr>\n",
       "      <th>South End</th>\n",
       "      <td>68</td>\n",
       "    </tr>\n",
       "    <tr>\n",
       "      <th>West Roxbury</th>\n",
       "      <td>20</td>\n",
       "    </tr>\n",
       "  </tbody>\n",
       "</table>\n",
       "</div>"
      ],
      "text/plain": [
       "               SHOOTING\n",
       "NAME                   \n",
       "Brighton             24\n",
       "Charlestown           5\n",
       "Dorchester          239\n",
       "Downtown             19\n",
       "East Boston          23\n",
       "Hyde Park            40\n",
       "Jamaica Plain        86\n",
       "Mattapan            297\n",
       "Roxbury             487\n",
       "South Boston         47\n",
       "South End            68\n",
       "West Roxbury         20"
      ]
     },
     "execution_count": 77,
     "metadata": {},
     "output_type": "execute_result"
    }
   ],
   "source": [
    "df2 = data.groupby(by='NAME').sum()[['SHOOTING']]\n",
    "df2"
   ]
  },
  {
   "cell_type": "code",
   "execution_count": 78,
   "id": "4a5d4d2f",
   "metadata": {},
   "outputs": [],
   "source": [
    "data['OCCURRED_ON_DATE'] = pd.to_datetime(data['OCCURRED_ON_DATE']).dt.year\n"
   ]
  },
  {
   "cell_type": "code",
   "execution_count": 79,
   "id": "c37b5ca1",
   "metadata": {},
   "outputs": [
    {
     "data": {
      "text/plain": [
       "0         2015\n",
       "1         2015\n",
       "2         2015\n",
       "3         2015\n",
       "4         2015\n",
       "          ... \n",
       "237216    2018\n",
       "237217    2018\n",
       "237218    2018\n",
       "237219    2018\n",
       "237220    2018\n",
       "Name: OCCURRED_ON_DATE, Length: 237221, dtype: int64"
      ]
     },
     "execution_count": 79,
     "metadata": {},
     "output_type": "execute_result"
    }
   ],
   "source": [
    "data['OCCURRED_ON_DATE']#.dt.year"
   ]
  },
  {
   "cell_type": "code",
   "execution_count": 83,
   "id": "79899197",
   "metadata": {},
   "outputs": [
    {
     "data": {
      "text/plain": [
       "0         2015\n",
       "1         2015\n",
       "2         2015\n",
       "3         2015\n",
       "4         2015\n",
       "          ... \n",
       "237216    2018\n",
       "237217    2018\n",
       "237218    2018\n",
       "237219    2018\n",
       "237220    2018\n",
       "Name: OCCURRED_ON_DATE, Length: 237221, dtype: int64"
      ]
     },
     "execution_count": 83,
     "metadata": {},
     "output_type": "execute_result"
    }
   ],
   "source": [
    "data['OCCURRED_ON_DATE']"
   ]
  },
  {
   "cell_type": "code",
   "execution_count": 85,
   "id": "5b2e3357",
   "metadata": {},
   "outputs": [],
   "source": [
    "df2 = data.groupby(by='OCCURRED_ON_DATE',as_index=False).sum()[['SHOOTING','OCCURRED_ON_DATE']]"
   ]
  },
  {
   "cell_type": "code",
   "execution_count": 86,
   "id": "39f1d043",
   "metadata": {},
   "outputs": [
    {
     "data": {
      "text/html": [
       "<div>\n",
       "<style scoped>\n",
       "    .dataframe tbody tr th:only-of-type {\n",
       "        vertical-align: middle;\n",
       "    }\n",
       "\n",
       "    .dataframe tbody tr th {\n",
       "        vertical-align: top;\n",
       "    }\n",
       "\n",
       "    .dataframe thead th {\n",
       "        text-align: right;\n",
       "    }\n",
       "</style>\n",
       "<table border=\"1\" class=\"dataframe\">\n",
       "  <thead>\n",
       "    <tr style=\"text-align: right;\">\n",
       "      <th></th>\n",
       "      <th>SHOOTING</th>\n",
       "      <th>OCCURRED_ON_DATE</th>\n",
       "    </tr>\n",
       "  </thead>\n",
       "  <tbody>\n",
       "    <tr>\n",
       "      <th>0</th>\n",
       "      <td>227</td>\n",
       "      <td>2015</td>\n",
       "    </tr>\n",
       "    <tr>\n",
       "      <th>1</th>\n",
       "      <td>326</td>\n",
       "      <td>2016</td>\n",
       "    </tr>\n",
       "    <tr>\n",
       "      <th>2</th>\n",
       "      <td>425</td>\n",
       "      <td>2017</td>\n",
       "    </tr>\n",
       "    <tr>\n",
       "      <th>3</th>\n",
       "      <td>377</td>\n",
       "      <td>2018</td>\n",
       "    </tr>\n",
       "  </tbody>\n",
       "</table>\n",
       "</div>"
      ],
      "text/plain": [
       "   SHOOTING  OCCURRED_ON_DATE\n",
       "0       227              2015\n",
       "1       326              2016\n",
       "2       425              2017\n",
       "3       377              2018"
      ]
     },
     "execution_count": 86,
     "metadata": {},
     "output_type": "execute_result"
    }
   ],
   "source": [
    "df2"
   ]
  },
  {
   "cell_type": "code",
   "execution_count": 95,
   "id": "d92d78db",
   "metadata": {},
   "outputs": [
    {
     "data": {
      "text/plain": [
       "Text(0.5, 1.0, 'Nombre de fusillades en focntion du temps')"
      ]
     },
     "execution_count": 95,
     "metadata": {},
     "output_type": "execute_result"
    },
    {
     "data": {
      "image/png": "[encoded data removed]",
      "text/plain": [
       "<Figure size 1440x720 with 1 Axes>"
      ]
     },
     "metadata": {
      "needs_background": "light"
     },
     "output_type": "display_data"
    }
   ],
   "source": [
    "plt.figure(figsize=(20,10))\n",
    "\n",
    "font = {'size' : 18}\n",
    "font_maintitle = {'weight' : 'bold', 'size' : 22}\n",
    "font_title = {'weight' : 'bold', 'size' : 18}\n",
    "plt.plot(df2['OCCURRED_ON_DATE'], df2['SHOOTING'], label=f\"line courbe {i}\",c='r',markersize=10)\n",
    "plt.ylabel('Nombre de fusillades',**font)\n",
    "plt.xlabel('Année',**font)\n",
    "plt.title(f\"Nombre de fusillades en focntion du temps\",**font_title)"
   ]
  },
  {
   "cell_type": "code",
   "execution_count": 96,
   "id": "b2057254",
   "metadata": {},
   "outputs": [],
   "source": [
    "df2 = data.groupby(by='OCCURRED_ON_DATE',as_index=False).count()[['OFFENSE_CODE_GROUP','OCCURRED_ON_DATE']]"
   ]
  },
  {
   "cell_type": "code",
   "execution_count": 97,
   "id": "301aa988",
   "metadata": {},
   "outputs": [
    {
     "data": {
      "text/html": [
       "<div>\n",
       "<style scoped>\n",
       "    .dataframe tbody tr th:only-of-type {\n",
       "        vertical-align: middle;\n",
       "    }\n",
       "\n",
       "    .dataframe tbody tr th {\n",
       "        vertical-align: top;\n",
       "    }\n",
       "\n",
       "    .dataframe thead th {\n",
       "        text-align: right;\n",
       "    }\n",
       "</style>\n",
       "<table border=\"1\" class=\"dataframe\">\n",
       "  <thead>\n",
       "    <tr style=\"text-align: right;\">\n",
       "      <th></th>\n",
       "      <th>OFFENSE_CODE_GROUP</th>\n",
       "      <th>OCCURRED_ON_DATE</th>\n",
       "    </tr>\n",
       "  </thead>\n",
       "  <tbody>\n",
       "    <tr>\n",
       "      <th>0</th>\n",
       "      <td>38507</td>\n",
       "      <td>2015</td>\n",
       "    </tr>\n",
       "    <tr>\n",
       "      <th>1</th>\n",
       "      <td>67270</td>\n",
       "      <td>2016</td>\n",
       "    </tr>\n",
       "    <tr>\n",
       "      <th>2</th>\n",
       "      <td>66894</td>\n",
       "      <td>2017</td>\n",
       "    </tr>\n",
       "    <tr>\n",
       "      <th>3</th>\n",
       "      <td>64550</td>\n",
       "      <td>2018</td>\n",
       "    </tr>\n",
       "  </tbody>\n",
       "</table>\n",
       "</div>"
      ],
      "text/plain": [
       "   OFFENSE_CODE_GROUP  OCCURRED_ON_DATE\n",
       "0               38507              2015\n",
       "1               67270              2016\n",
       "2               66894              2017\n",
       "3               64550              2018"
      ]
     },
     "execution_count": 97,
     "metadata": {},
     "output_type": "execute_result"
    }
   ],
   "source": [
    "df2"
   ]
  },
  {
   "cell_type": "code",
   "execution_count": 100,
   "id": "a621f490",
   "metadata": {},
   "outputs": [
    {
     "data": {
      "text/plain": [
       "Text(0.5, 1.0, \"Nombre d'incidents en focntion du temps\")"
      ]
     },
     "execution_count": 100,
     "metadata": {},
     "output_type": "execute_result"
    },
    {
     "data": {
      "image/png": "[encoded data removed]",
      "text/plain": [
       "<Figure size 1440x720 with 1 Axes>"
      ]
     },
     "metadata": {
      "needs_background": "light"
     },
     "output_type": "display_data"
    }
   ],
   "source": [
    "plt.figure(figsize=(20,10))\n",
    "\n",
    "font = {'size' : 18}\n",
    "font_maintitle = {'weight' : 'bold', 'size' : 22}\n",
    "font_title = {'weight' : 'bold', 'size' : 18}\n",
    "plt.plot(df2['OCCURRED_ON_DATE'], df2['OFFENSE_CODE_GROUP'], label=f\"line courbe {i}\",c='r',markersize=10)\n",
    "plt.ylabel('Nombre dincidents',**font)\n",
    "plt.xlabel('Année',**font)\n",
    "plt.title(f\"Nombre d'incidents en focntion du temps\",**font_title)"
   ]
  },
  {
   "cell_type": "code",
   "execution_count": null,
   "id": "1122f758",
   "metadata": {},
   "outputs": [],
   "source": []
  }
 ],
 "metadata": {
  "kernelspec": {
   "display_name": "Python 3 (ipykernel)",
   "language": "python",
   "name": "python3"
  },
  "language_info": {
   "codemirror_mode": {
    "name": "ipython",
    "version": 3
   },
   "file_extension": ".py",
   "mimetype": "text/x-python",
   "name": "python",
   "nbconvert_exporter": "python",
   "pygments_lexer": "ipython3",
   "version": "3.9.7"
  },
  "toc": {
   "base_numbering": 1,
   "nav_menu": {},
   "number_sections": true,
   "sideBar": true,
   "skip_h1_title": false,
   "title_cell": "Table of Contents",
   "title_sidebar": "Contents",
   "toc_cell": false,
   "toc_position": {},
   "toc_section_display": true,
   "toc_window_display": false
  }
 },
 "nbformat": 4,
 "nbformat_minor": 5
}
